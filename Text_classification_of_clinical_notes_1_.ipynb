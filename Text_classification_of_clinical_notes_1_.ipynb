{
  "nbformat": 4,
  "nbformat_minor": 0,
  "metadata": {
    "colab": {
      "name": "Text classification of clinical notes 1 .ipynb",
      "provenance": [],
      "collapsed_sections": [],
      "include_colab_link": true
    },
    "kernelspec": {
      "name": "python3",
      "display_name": "Python 3"
    },
    "accelerator": "GPU"
  },
  "cells": [
    {
      "cell_type": "markdown",
      "metadata": {
        "id": "view-in-github",
        "colab_type": "text"
      },
      "source": [
        "<a href=\"https://colab.research.google.com/github/itsclint/Dasha/blob/master/Text_classification_of_clinical_notes_1_.ipynb\" target=\"_parent\"><img src=\"https://colab.research.google.com/assets/colab-badge.svg\" alt=\"Open In Colab\"/></a>"
      ]
    },
    {
      "cell_type": "code",
      "metadata": {
        "id": "QU52-rEn9nf3",
        "colab_type": "code",
        "colab": {}
      },
      "source": [
        "%matplotlib inline\n",
        "import pandas as pd \n",
        "import numpy as np \n",
        "import matplotlib.pyplot as plt\n"
      ],
      "execution_count": 0,
      "outputs": []
    },
    {
      "cell_type": "code",
      "metadata": {
        "id": "rWkYb46AVCID",
        "colab_type": "code",
        "colab": {}
      },
      "source": [
        "from nltk.tokenize import word_tokenize\n",
        "from nltk import pos_tag\n",
        "from nltk.corpus import stopwords \n",
        "from nltk.stem import WordNetLemmatizer\n",
        "from nltk.corpus import wordnet as wn"
      ],
      "execution_count": 0,
      "outputs": []
    },
    {
      "cell_type": "code",
      "metadata": {
        "id": "ZgNd6LjeWBpJ",
        "colab_type": "code",
        "colab": {}
      },
      "source": [
        "from collections import defaultdict\n",
        "from sklearn.preprocessing import LabelEncoder\n",
        "from sklearn.feature_extraction.text import TfidfVectorizer\n",
        "from sklearn import model_selection, naive_bayes, svm\n",
        "from sklearn.metrics import accuracy_score "
      ],
      "execution_count": 0,
      "outputs": []
    },
    {
      "cell_type": "code",
      "metadata": {
        "id": "AL3HxQiknii8",
        "colab_type": "code",
        "outputId": "feb6ee8d-a5e1-4cb0-c85c-3cd8ddb63420",
        "colab": {
          "base_uri": "https://localhost:8080/",
          "height": 122
        }
      },
      "source": [
        "from google.colab import drive\n",
        "drive.mount('/content/drive')"
      ],
      "execution_count": 0,
      "outputs": [
        {
          "output_type": "stream",
          "text": [
            "Go to this URL in a browser: https://accounts.google.com/o/oauth2/auth?client_id=947318989803-6bn6qk8qdgf4n4g3pfee6491hc0brc4i.apps.googleusercontent.com&redirect_uri=urn%3aietf%3awg%3aoauth%3a2.0%3aoob&response_type=code&scope=email%20https%3a%2f%2fwww.googleapis.com%2fauth%2fdocs.test%20https%3a%2f%2fwww.googleapis.com%2fauth%2fdrive%20https%3a%2f%2fwww.googleapis.com%2fauth%2fdrive.photos.readonly%20https%3a%2f%2fwww.googleapis.com%2fauth%2fpeopleapi.readonly\n",
            "\n",
            "Enter your authorization code:\n",
            "··········\n",
            "Mounted at /content/drive\n"
          ],
          "name": "stdout"
        }
      ]
    },
    {
      "cell_type": "code",
      "metadata": {
        "id": "x8n0nPSZriOc",
        "colab_type": "code",
        "colab": {}
      },
      "source": [
        "df1 = pd.read_csv('/content/drive/My Drive/medical record .csv', encoding='latin-1')\n",
        "df2 = pd.read_csv('/content/drive/My Drive/Medical dataset - Sheet1.csv', encoding='latin-1')\n"
      ],
      "execution_count": 0,
      "outputs": []
    },
    {
      "cell_type": "code",
      "metadata": {
        "id": "0aVERh2za75l",
        "colab_type": "code",
        "colab": {}
      },
      "source": [
        "Corpus = pd.concat([df1, df2],)"
      ],
      "execution_count": 0,
      "outputs": []
    },
    {
      "cell_type": "code",
      "metadata": {
        "id": "sZZicy__0bHH",
        "colab_type": "code",
        "colab": {}
      },
      "source": [
        "Corpus.to_csv(r'/content/Corpus.csv')"
      ],
      "execution_count": 0,
      "outputs": []
    },
    {
      "cell_type": "code",
      "metadata": {
        "id": "tzgi17hwamUX",
        "colab_type": "code",
        "colab": {}
      },
      "source": [
        "np.random.seed(500)"
      ],
      "execution_count": 0,
      "outputs": []
    },
    {
      "cell_type": "code",
      "metadata": {
        "id": "2QSKGkMaBze6",
        "colab_type": "code",
        "outputId": "19b178a1-68ea-4cc5-88fc-2a374b6bbcbf",
        "colab": {
          "base_uri": "https://localhost:8080/",
          "height": 419
        }
      },
      "source": [
        "Corpus.apply(lambda col: col.drop_duplicates().reset_index(drop=True))"
      ],
      "execution_count": 0,
      "outputs": [
        {
          "output_type": "execute_result",
          "data": {
            "text/html": [
              "<div>\n",
              "<style scoped>\n",
              "    .dataframe tbody tr th:only-of-type {\n",
              "        vertical-align: middle;\n",
              "    }\n",
              "\n",
              "    .dataframe tbody tr th {\n",
              "        vertical-align: top;\n",
              "    }\n",
              "\n",
              "    .dataframe thead th {\n",
              "        text-align: right;\n",
              "    }\n",
              "</style>\n",
              "<table border=\"1\" class=\"dataframe\">\n",
              "  <thead>\n",
              "    <tr style=\"text-align: right;\">\n",
              "      <th></th>\n",
              "      <th>SOAP_Note</th>\n",
              "      <th>Label</th>\n",
              "    </tr>\n",
              "  </thead>\n",
              "  <tbody>\n",
              "    <tr>\n",
              "      <th>0</th>\n",
              "      <td>s:a 33 year old female crystallographer presen...</td>\n",
              "      <td>FAMILY PRACTICE/PRIMARY CARE</td>\n",
              "    </tr>\n",
              "    <tr>\n",
              "      <th>1</th>\n",
              "      <td>s:33 yr old female crystallographer presents t...</td>\n",
              "      <td>EMERGENCY MEDICINE</td>\n",
              "    </tr>\n",
              "    <tr>\n",
              "      <th>2</th>\n",
              "      <td>s:a 32 year old f presents with critical dyspn...</td>\n",
              "      <td>ONCOLOGY</td>\n",
              "    </tr>\n",
              "    <tr>\n",
              "      <th>3</th>\n",
              "      <td>s:a white female aged 32 Ys presents with 8 mo...</td>\n",
              "      <td>PULMONARY DISEASE</td>\n",
              "    </tr>\n",
              "    <tr>\n",
              "      <th>4</th>\n",
              "      <td>s:32 yr old white F presents today for routine...</td>\n",
              "      <td>SURGERY</td>\n",
              "    </tr>\n",
              "    <tr>\n",
              "      <th>...</th>\n",
              "      <td>...</td>\n",
              "      <td>...</td>\n",
              "    </tr>\n",
              "    <tr>\n",
              "      <th>5587</th>\n",
              "      <td>**THIS IS LONG, SO I PUT A TL;DR AT THE BOTTOM...</td>\n",
              "      <td>NaN</td>\n",
              "    </tr>\n",
              "    <tr>\n",
              "      <th>5588</th>\n",
              "      <td>My GF was diagnosed with thyroid cancer during...</td>\n",
              "      <td>NaN</td>\n",
              "    </tr>\n",
              "    <tr>\n",
              "      <th>5589</th>\n",
              "      <td>I had braces from the ages of 12-14, and am 35...</td>\n",
              "      <td>NaN</td>\n",
              "    </tr>\n",
              "    <tr>\n",
              "      <th>5590</th>\n",
              "      <td>Ok i am just going to make this short and swee...</td>\n",
              "      <td>NaN</td>\n",
              "    </tr>\n",
              "    <tr>\n",
              "      <th>5591</th>\n",
              "      <td>Since yesterday, I'm having random pain betwee...</td>\n",
              "      <td>NaN</td>\n",
              "    </tr>\n",
              "  </tbody>\n",
              "</table>\n",
              "<p>5592 rows × 2 columns</p>\n",
              "</div>"
            ],
            "text/plain": [
              "                                              SOAP_Note                         Label\n",
              "0     s:a 33 year old female crystallographer presen...  FAMILY PRACTICE/PRIMARY CARE\n",
              "1     s:33 yr old female crystallographer presents t...            EMERGENCY MEDICINE\n",
              "2     s:a 32 year old f presents with critical dyspn...                      ONCOLOGY\n",
              "3     s:a white female aged 32 Ys presents with 8 mo...             PULMONARY DISEASE\n",
              "4     s:32 yr old white F presents today for routine...                       SURGERY\n",
              "...                                                 ...                           ...\n",
              "5587  **THIS IS LONG, SO I PUT A TL;DR AT THE BOTTOM...                           NaN\n",
              "5588  My GF was diagnosed with thyroid cancer during...                           NaN\n",
              "5589  I had braces from the ages of 12-14, and am 35...                           NaN\n",
              "5590  Ok i am just going to make this short and swee...                           NaN\n",
              "5591  Since yesterday, I'm having random pain betwee...                           NaN\n",
              "\n",
              "[5592 rows x 2 columns]"
            ]
          },
          "metadata": {
            "tags": []
          },
          "execution_count": 9
        }
      ]
    },
    {
      "cell_type": "code",
      "metadata": {
        "id": "ws7JTKClz6M8",
        "colab_type": "code",
        "outputId": "ba8adadb-f8d8-4764-f916-9f92122a1c4c",
        "colab": {
          "base_uri": "https://localhost:8080/",
          "height": 221
        }
      },
      "source": [
        "Corpus.Label"
      ],
      "execution_count": 0,
      "outputs": [
        {
          "output_type": "execute_result",
          "data": {
            "text/plain": [
              "0       FAMILY PRACTICE/PRIMARY CARE\n",
              "1       FAMILY PRACTICE/PRIMARY CARE\n",
              "2                 EMERGENCY MEDICINE\n",
              "3       FAMILY PRACTICE/PRIMARY CARE\n",
              "4       FAMILY PRACTICE/PRIMARY CARE\n",
              "                    ...             \n",
              "2746                 DENTAL MEDICINE\n",
              "2747                   ENDOCRINOLOGY\n",
              "2748                 DENTAL MEDICINE\n",
              "2749                      CARDIOLOGY\n",
              "2750                      CARDIOLOGY\n",
              "Name: Label, Length: 6294, dtype: object"
            ]
          },
          "metadata": {
            "tags": []
          },
          "execution_count": 10
        }
      ]
    },
    {
      "cell_type": "code",
      "metadata": {
        "id": "19MMLQbsTDiG",
        "colab_type": "code",
        "colab": {}
      },
      "source": [
        "Corpus['SOAP_Note'].dropna(inplace=True)"
      ],
      "execution_count": 0,
      "outputs": []
    },
    {
      "cell_type": "code",
      "metadata": {
        "id": "urr4Yaw3CFrg",
        "colab_type": "code",
        "colab": {}
      },
      "source": [
        "# See rows with missing values\n",
        "Corpus[Corpus.isnull().any(axis=1)]\n"
      ],
      "execution_count": 0,
      "outputs": []
    },
    {
      "cell_type": "code",
      "metadata": {
        "id": "4Tx8l2Nniimr",
        "colab_type": "code",
        "colab": {}
      },
      "source": [
        "Train_X, Test_X, Train_Y, Test_Y = model_selection.train_test_split(Corpus['SOAP_Note'],Corpus['Label'],test_size=0.3)"
      ],
      "execution_count": 0,
      "outputs": []
    },
    {
      "cell_type": "code",
      "metadata": {
        "id": "pBr9PErr0mCA",
        "colab_type": "code",
        "outputId": "71bc13f1-be34-46f4-e0e2-8db1fa9a0cb0",
        "colab": {
          "base_uri": "https://localhost:8080/",
          "height": 68
        }
      },
      "source": [
        "Corpus.dtypes"
      ],
      "execution_count": 0,
      "outputs": [
        {
          "output_type": "execute_result",
          "data": {
            "text/plain": [
              "SOAP_Note    object\n",
              "Label        object\n",
              "dtype: object"
            ]
          },
          "metadata": {
            "tags": []
          },
          "execution_count": 18
        }
      ]
    },
    {
      "cell_type": "code",
      "metadata": {
        "id": "Svgbnebf65bf",
        "colab_type": "code",
        "outputId": "972ec639-802c-420b-9db1-95a19510c2b1",
        "colab": {
          "base_uri": "https://localhost:8080/",
          "height": 68
        }
      },
      "source": [
        "Corpus['SOAP_Note'] = Corpus['SOAP_Note'].astype(str)\n",
        "Corpus['Label'] = Corpus['Label'].astype(str)\n",
        "Corpus.dtypes"
      ],
      "execution_count": 0,
      "outputs": [
        {
          "output_type": "execute_result",
          "data": {
            "text/plain": [
              "SOAP_Note    object\n",
              "Label        object\n",
              "dtype: object"
            ]
          },
          "metadata": {
            "tags": []
          },
          "execution_count": 20
        }
      ]
    },
    {
      "cell_type": "code",
      "metadata": {
        "id": "Y3LUt2tb7q9s",
        "colab_type": "code",
        "colab": {}
      },
      "source": [
        "Encoder = LabelEncoder()\n",
        "Train_Y = Encoder.fit_transform(Train_Y)\n",
        "Test_Y = Encoder.fit_transform(Test_Y)"
      ],
      "execution_count": 0,
      "outputs": []
    },
    {
      "cell_type": "code",
      "metadata": {
        "id": "FPhHDlOa8j0a",
        "colab_type": "code",
        "colab": {}
      },
      "source": [
        "Tfidf_vect = TfidfVectorizer(max_features=5000)\n",
        "Tfidf_vect.fit(Corpus['SOAP_Note'])\n",
        "Train_X_Tfidf = Tfidf_vect.transform(Train_X)\n",
        "Test_X_Tfidf = Tfidf_vect.transform(Test_X)"
      ],
      "execution_count": 0,
      "outputs": []
    },
    {
      "cell_type": "code",
      "metadata": {
        "id": "D417eMum8rSB",
        "colab_type": "code",
        "outputId": "d0b64ac2-99f6-41e9-b849-295e30f53d06",
        "colab": {
          "base_uri": "https://localhost:8080/",
          "height": 255
        }
      },
      "source": [
        "print(corpus)"
      ],
      "execution_count": 0,
      "outputs": [
        {
          "output_type": "stream",
          "text": [
            "                                              SOAP_Note                         Label\n",
            "0     s:a 33 year old female crystallographer presen...  FAMILY PRACTICE/PRIMARY CARE\n",
            "1     s:33 yr old female crystallographer presents t...  FAMILY PRACTICE/PRIMARY CARE\n",
            "2     s:a 32 year old f presents with critical dyspn...            EMERGENCY MEDICINE\n",
            "3     s:a white female aged 32 Ys presents with 8 mo...  FAMILY PRACTICE/PRIMARY CARE\n",
            "4     s:32 yr old white F presents today for routine...  FAMILY PRACTICE/PRIMARY CARE\n",
            "...                                                 ...                           ...\n",
            "2746  I had braces from the ages of 12-14, and am 35...               DENTAL MEDICINE\n",
            "2747  Ok i am just going to make this short and swee...                 ENDOCRINOLOGY\n",
            "2748  Since yesterday, I'm having random pain betwee...               DENTAL MEDICINE\n",
            "2749                                                nan                    CARDIOLOGY\n",
            "2750                                                nan                    CARDIOLOGY\n",
            "\n",
            "[6294 rows x 2 columns]\n"
          ],
          "name": "stdout"
        }
      ]
    },
    {
      "cell_type": "code",
      "metadata": {
        "id": "DiG6nAveVg-j",
        "colab_type": "code",
        "outputId": "633d5be4-4e2c-40de-e8e2-bc72ffa7c5b4",
        "colab": {
          "base_uri": "https://localhost:8080/",
          "height": 884
        }
      },
      "source": [
        "print(Test_X_Tfidf)"
      ],
      "execution_count": 0,
      "outputs": [
        {
          "output_type": "stream",
          "text": [
            "  (0, 4919)\t0.06264759753117341\n",
            "  (0, 4900)\t0.057493252740177206\n",
            "  (0, 4843)\t0.039417620017842964\n",
            "  (0, 4795)\t0.03883349673498262\n",
            "  (0, 4664)\t0.0883191752616919\n",
            "  (0, 4604)\t0.060813703790980764\n",
            "  (0, 4467)\t0.20376685432634328\n",
            "  (0, 4381)\t0.0404151171374971\n",
            "  (0, 4331)\t0.04056039429053988\n",
            "  (0, 4243)\t0.11747618582365918\n",
            "  (0, 4204)\t0.06593295709329015\n",
            "  (0, 4110)\t0.06867459633856804\n",
            "  (0, 4056)\t0.07488080832202554\n",
            "  (0, 3949)\t0.06490818225475137\n",
            "  (0, 3941)\t0.07686003486627813\n",
            "  (0, 3923)\t0.13383810188894954\n",
            "  (0, 3747)\t0.04054324989498094\n",
            "  (0, 3656)\t0.06904428823813526\n",
            "  (0, 3636)\t0.06760352462892354\n",
            "  (0, 3520)\t0.06924875372166638\n",
            "  (0, 3516)\t0.04043215579047279\n",
            "  (0, 3407)\t0.03887298407464755\n",
            "  (0, 3318)\t0.3383482777953636\n",
            "  (0, 3304)\t0.07519782654167194\n",
            "  (0, 3302)\t0.06924875372166638\n",
            "  :\t:\n",
            "  (1888, 1655)\t0.07857422753416946\n",
            "  (1888, 1485)\t0.15303767760594633\n",
            "  (1888, 1397)\t0.06394843580737244\n",
            "  (1888, 1356)\t0.1410573858572332\n",
            "  (1888, 1335)\t0.07339999922740192\n",
            "  (1888, 1256)\t0.18412664485754363\n",
            "  (1888, 1104)\t0.06866772751876203\n",
            "  (1888, 1103)\t0.18466659179144645\n",
            "  (1888, 1018)\t0.09686524256622042\n",
            "  (1888, 768)\t0.2070798370127883\n",
            "  (1888, 569)\t0.1478842563538181\n",
            "  (1888, 510)\t0.06488103109899795\n",
            "  (1888, 471)\t0.08540203159454153\n",
            "  (1888, 430)\t0.1835954779386806\n",
            "  (1888, 410)\t0.07510502388566809\n",
            "  (1888, 347)\t0.2558161975000514\n",
            "  (1888, 282)\t0.15045482159999152\n",
            "  (1888, 258)\t0.14914426004701475\n",
            "  (1888, 255)\t0.13422988698015492\n",
            "  (1888, 252)\t0.13411384406679222\n",
            "  (1888, 240)\t0.1243707326564157\n",
            "  (1888, 115)\t0.22055391108449574\n",
            "  (1888, 94)\t0.10517006656418393\n",
            "  (1888, 29)\t0.1432804234016544\n",
            "  (1888, 10)\t0.11475909256735636\n"
          ],
          "name": "stdout"
        }
      ]
    },
    {
      "cell_type": "code",
      "metadata": {
        "id": "9mktWoM6WgNH",
        "colab_type": "code",
        "outputId": "15bcc619-ccb1-4312-aaeb-6e7322e761db",
        "colab": {
          "base_uri": "https://localhost:8080/",
          "height": 34
        }
      },
      "source": [
        "# fit the training dataset on the NB classifier\n",
        "Naive = naive_bayes.MultinomialNB()\n",
        "Naive.fit(Train_X_Tfidf,Train_Y)\n",
        "# predict the labels on validation dataset\n",
        "predictions_NB = Naive.predict(Test_X_Tfidf)\n",
        "# Use accuracy_score function to get the accuracy\n",
        "print(\"Naive Bayes Accuracy Score -> \",accuracy_score(predictions_NB, Test_Y)*100)"
      ],
      "execution_count": 0,
      "outputs": [
        {
          "output_type": "stream",
          "text": [
            "Naive Bayes Accuracy Score ->  52.67337215457915\n"
          ],
          "name": "stdout"
        }
      ]
    },
    {
      "cell_type": "code",
      "metadata": {
        "id": "AKJOwlaYWi1J",
        "colab_type": "code",
        "outputId": "466f479c-4b16-404c-b34a-09c91bc9467b",
        "colab": {
          "base_uri": "https://localhost:8080/",
          "height": 34
        }
      },
      "source": [
        "# Classifier - Algorithm - SVM\n",
        "# fit the training dataset on the classifier\n",
        "SVM = svm.SVC(C=1.0, kernel='linear', degree=3, gamma='auto')\n",
        "SVM.fit(Train_X_Tfidf,Train_Y)\n",
        "# predict the labels on validation dataset\n",
        "predictions_SVM = SVM.predict(Test_X_Tfidf)\n",
        "# Use accuracy_score function to get the accuracy\n",
        "print(\"SVM Accuracy Score -> \",accuracy_score(predictions_SVM, Test_Y)*100)"
      ],
      "execution_count": 0,
      "outputs": [
        {
          "output_type": "stream",
          "text": [
            "SVM Accuracy Score ->  62.25516146109052\n"
          ],
          "name": "stdout"
        }
      ]
    },
    {
      "cell_type": "code",
      "metadata": {
        "id": "W92qWutzY1NO",
        "colab_type": "code",
        "colab": {}
      },
      "source": [
        "\n"
      ],
      "execution_count": 0,
      "outputs": []
    }
  ]
}