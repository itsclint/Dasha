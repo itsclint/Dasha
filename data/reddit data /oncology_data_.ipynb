{
  "nbformat": 4,
  "nbformat_minor": 0,
  "metadata": {
    "colab": {
      "name": "oncology data .ipynb",
      "provenance": [],
      "include_colab_link": true
    },
    "kernelspec": {
      "name": "python3",
      "display_name": "Python 3"
    }
  },
  "cells": [
    {
      "cell_type": "markdown",
      "metadata": {
        "id": "view-in-github",
        "colab_type": "text"
      },
      "source": [
        "<a href=\"https://colab.research.google.com/github/itsclint/Dasha/blob/master/data/reddit%20data%20/oncology_data_.ipynb\" target=\"_parent\"><img src=\"https://colab.research.google.com/assets/colab-badge.svg\" alt=\"Open In Colab\"/></a>"
      ]
    },
    {
      "cell_type": "code",
      "metadata": {
        "id": "vODqmkhwjkYs",
        "colab_type": "code",
        "colab": {
          "base_uri": "https://localhost:8080/",
          "height": 207
        },
        "outputId": "f43363c3-7f51-4d1a-d574-2ad4355f5647"
      },
      "source": [
        "pip install PRAW "
      ],
      "execution_count": 12,
      "outputs": [
        {
          "output_type": "stream",
          "text": [
            "Requirement already satisfied: PRAW in /usr/local/lib/python3.6/dist-packages (6.4.0)\n",
            "Requirement already satisfied: websocket-client>=0.54.0 in /usr/local/lib/python3.6/dist-packages (from PRAW) (0.56.0)\n",
            "Requirement already satisfied: update-checker>=0.16 in /usr/local/lib/python3.6/dist-packages (from PRAW) (0.16)\n",
            "Requirement already satisfied: prawcore<2.0,>=1.0.1 in /usr/local/lib/python3.6/dist-packages (from PRAW) (1.0.1)\n",
            "Requirement already satisfied: six in /usr/local/lib/python3.6/dist-packages (from websocket-client>=0.54.0->PRAW) (1.12.0)\n",
            "Requirement already satisfied: requests>=2.3.0 in /usr/local/lib/python3.6/dist-packages (from update-checker>=0.16->PRAW) (2.21.0)\n",
            "Requirement already satisfied: urllib3<1.25,>=1.21.1 in /usr/local/lib/python3.6/dist-packages (from requests>=2.3.0->update-checker>=0.16->PRAW) (1.24.3)\n",
            "Requirement already satisfied: certifi>=2017.4.17 in /usr/local/lib/python3.6/dist-packages (from requests>=2.3.0->update-checker>=0.16->PRAW) (2019.9.11)\n",
            "Requirement already satisfied: idna<2.9,>=2.5 in /usr/local/lib/python3.6/dist-packages (from requests>=2.3.0->update-checker>=0.16->PRAW) (2.8)\n",
            "Requirement already satisfied: chardet<3.1.0,>=3.0.2 in /usr/local/lib/python3.6/dist-packages (from requests>=2.3.0->update-checker>=0.16->PRAW) (3.0.4)\n"
          ],
          "name": "stdout"
        }
      ]
    },
    {
      "cell_type": "code",
      "metadata": {
        "id": "sdBSrsY6jxEt",
        "colab_type": "code",
        "colab": {}
      },
      "source": [
        "import praw"
      ],
      "execution_count": 0,
      "outputs": []
    },
    {
      "cell_type": "code",
      "metadata": {
        "id": "jrUtF1BP2wRw",
        "colab_type": "code",
        "colab": {}
      },
      "source": [
        "reddit = praw.Reddit(client_id='V0wRrd6JxqFzqw', client_secret='m8t2vqwjLjDOBhgFPVkGUo8INnk', user_agent='Reddit Webscrapping')"
      ],
      "execution_count": 0,
      "outputs": []
    },
    {
      "cell_type": "code",
      "metadata": {
        "id": "gCOvXkcgj_9g",
        "colab_type": "code",
        "colab": {
          "base_uri": "https://localhost:8080/",
          "height": 275
        },
        "outputId": "fec646f6-bfe9-4977-a5c4-4f973cc4b0ba"
      },
      "source": [
        "import pandas as pd\n",
        "onc_reddit = []\n",
        "onc_subrreddit = reddit.subreddit('oncology')\n",
        "for post in onc_subrreddit.new(limit=1000):\n",
        "  onc_reddit.append([post.title, post.selftext])\n",
        "onc_reddit = pd.DataFrame(onc_reddit,columns=['title', 'body', ])  \n",
        "print(onc_reddit)"
      ],
      "execution_count": 15,
      "outputs": [
        {
          "output_type": "stream",
          "text": [
            "                                                 title                                               body\n",
            "0              Second line treatment options for SCLC?  \\nSeeking advice from clinicians regarding sec...\n",
            "1                                        I NEED ADVICE  The patient is to begin chemotherapy today, th...\n",
            "2    [Hypothetical question] Is it possible to inje...  Hello, university biology student here just le...\n",
            "3                 Looking for advice from oncologists!  Hey guys!\\n\\nI'm an engineering student at the...\n",
            "4    Cancer from walking on street with people smok...  Hi, \\nThis might be odd but what are my chance...\n",
            "..                                                 ...                                                ...\n",
            "277  Screening Alone Is Not Enough: The Importance ...                                                   \n",
            "278  Helpful article about Oncology from Cornerston...                                                   \n",
            "279  Spanish researchers develop new method to diag...                                                   \n",
            "280                       SCREENING FOR CANCER:CAVEATS                                                   \n",
            "281                                         Post away!  Post interesting research and clinical scenari...\n",
            "\n",
            "[282 rows x 2 columns]\n"
          ],
          "name": "stdout"
        }
      ]
    },
    {
      "cell_type": "code",
      "metadata": {
        "id": "kP8x8GRAmOPB",
        "colab_type": "code",
        "colab": {
          "base_uri": "https://localhost:8080/",
          "height": 54
        },
        "outputId": "d78b6e37-0fb2-462e-dfff-00700a37befe"
      },
      "source": [
        "from google.colab import drive\n",
        "drive.mount('/content/drive')"
      ],
      "execution_count": 16,
      "outputs": [
        {
          "output_type": "stream",
          "text": [
            "Drive already mounted at /content/drive; to attempt to forcibly remount, call drive.mount(\"/content/drive\", force_remount=True).\n"
          ],
          "name": "stdout"
        }
      ]
    },
    {
      "cell_type": "code",
      "metadata": {
        "id": "kiimrBXPuGxI",
        "colab_type": "code",
        "colab": {}
      },
      "source": [
        "onc_reddit.to_csv(r'/content/onc_reddit.csv')"
      ],
      "execution_count": 0,
      "outputs": []
    }
  ]
}