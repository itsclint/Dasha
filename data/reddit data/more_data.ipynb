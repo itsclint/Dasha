{
  "nbformat": 4,
  "nbformat_minor": 0,
  "metadata": {
    "colab": {
      "name": "more data.ipynb",
      "provenance": [],
      "include_colab_link": true
    },
    "kernelspec": {
      "name": "python3",
      "display_name": "Python 3"
    }
  },
  "cells": [
    {
      "cell_type": "markdown",
      "metadata": {
        "id": "view-in-github",
        "colab_type": "text"
      },
      "source": [
        "<a href=\"https://colab.research.google.com/github/itsclint/Dasha/blob/master/data/reddit%20data/more_data.ipynb\" target=\"_parent\"><img src=\"https://colab.research.google.com/assets/colab-badge.svg\" alt=\"Open In Colab\"/></a>"
      ]
    },
    {
      "cell_type": "code",
      "metadata": {
        "id": "mOsyqSWf2XDx",
        "colab_type": "code",
        "colab": {
          "base_uri": "https://localhost:8080/",
          "height": 343
        },
        "outputId": "22eab524-b39c-4e2b-bf65-6c756dd14651"
      },
      "source": [
        "pip install praw"
      ],
      "execution_count": 1,
      "outputs": [
        {
          "output_type": "stream",
          "text": [
            "Collecting praw\n",
            "\u001b[?25l  Downloading https://files.pythonhosted.org/packages/f6/df/b42c0a3b86a43a62a46e5b2f07930230ac7719624800a2052218993fb767/praw-6.4.0-py2.py3-none-any.whl (126kB)\n",
            "\r\u001b[K     |██▋                             | 10kB 14.8MB/s eta 0:00:01\r\u001b[K     |█████▏                          | 20kB 7.1MB/s eta 0:00:01\r\u001b[K     |███████▉                        | 30kB 9.7MB/s eta 0:00:01\r\u001b[K     |██████████▍                     | 40kB 6.2MB/s eta 0:00:01\r\u001b[K     |█████████████                   | 51kB 7.5MB/s eta 0:00:01\r\u001b[K     |███████████████▋                | 61kB 8.8MB/s eta 0:00:01\r\u001b[K     |██████████████████▏             | 71kB 9.3MB/s eta 0:00:01\r\u001b[K     |████████████████████▊           | 81kB 10.2MB/s eta 0:00:01\r\u001b[K     |███████████████████████▍        | 92kB 11.3MB/s eta 0:00:01\r\u001b[K     |██████████████████████████      | 102kB 9.9MB/s eta 0:00:01\r\u001b[K     |████████████████████████████▌   | 112kB 9.9MB/s eta 0:00:01\r\u001b[K     |███████████████████████████████▏| 122kB 9.9MB/s eta 0:00:01\r\u001b[K     |████████████████████████████████| 133kB 9.9MB/s \n",
            "\u001b[?25hCollecting update-checker>=0.16\n",
            "  Downloading https://files.pythonhosted.org/packages/17/c9/ab11855af164d03be0ff4fddd4c46a5bd44799a9ecc1770e01a669c21168/update_checker-0.16-py2.py3-none-any.whl\n",
            "Collecting prawcore<2.0,>=1.0.1\n",
            "  Downloading https://files.pythonhosted.org/packages/76/b5/ce6282dea45cba6f08a30e25d18e0f3d33277e2c9fcbda75644b8dc0089b/prawcore-1.0.1-py2.py3-none-any.whl\n",
            "Collecting websocket-client>=0.54.0\n",
            "\u001b[?25l  Downloading https://files.pythonhosted.org/packages/29/19/44753eab1fdb50770ac69605527e8859468f3c0fd7dc5a76dd9c4dbd7906/websocket_client-0.56.0-py2.py3-none-any.whl (200kB)\n",
            "\r\u001b[K     |█▋                              | 10kB 21.7MB/s eta 0:00:01\r\u001b[K     |███▎                            | 20kB 29.0MB/s eta 0:00:01\r\u001b[K     |█████                           | 30kB 35.8MB/s eta 0:00:01\r\u001b[K     |██████▌                         | 40kB 40.8MB/s eta 0:00:01\r\u001b[K     |████████▏                       | 51kB 42.4MB/s eta 0:00:01\r\u001b[K     |█████████▉                      | 61kB 45.5MB/s eta 0:00:01\r\u001b[K     |███████████▍                    | 71kB 46.8MB/s eta 0:00:01\r\u001b[K     |█████████████                   | 81kB 47.9MB/s eta 0:00:01\r\u001b[K     |██████████████▊                 | 92kB 49.7MB/s eta 0:00:01\r\u001b[K     |████████████████▍               | 102kB 51.2MB/s eta 0:00:01\r\u001b[K     |██████████████████              | 112kB 51.2MB/s eta 0:00:01\r\u001b[K     |███████████████████▋            | 122kB 51.2MB/s eta 0:00:01\r\u001b[K     |█████████████████████▎          | 133kB 51.2MB/s eta 0:00:01\r\u001b[K     |██████████████████████▉         | 143kB 51.2MB/s eta 0:00:01\r\u001b[K     |████████████████████████▌       | 153kB 51.2MB/s eta 0:00:01\r\u001b[K     |██████████████████████████▏     | 163kB 51.2MB/s eta 0:00:01\r\u001b[K     |███████████████████████████▊    | 174kB 51.2MB/s eta 0:00:01\r\u001b[K     |█████████████████████████████▍  | 184kB 51.2MB/s eta 0:00:01\r\u001b[K     |███████████████████████████████ | 194kB 51.2MB/s eta 0:00:01\r\u001b[K     |████████████████████████████████| 204kB 51.2MB/s \n",
            "\u001b[?25hRequirement already satisfied: requests>=2.3.0 in /usr/local/lib/python3.6/dist-packages (from update-checker>=0.16->praw) (2.21.0)\n",
            "Requirement already satisfied: six in /usr/local/lib/python3.6/dist-packages (from websocket-client>=0.54.0->praw) (1.12.0)\n",
            "Requirement already satisfied: chardet<3.1.0,>=3.0.2 in /usr/local/lib/python3.6/dist-packages (from requests>=2.3.0->update-checker>=0.16->praw) (3.0.4)\n",
            "Requirement already satisfied: certifi>=2017.4.17 in /usr/local/lib/python3.6/dist-packages (from requests>=2.3.0->update-checker>=0.16->praw) (2019.9.11)\n",
            "Requirement already satisfied: idna<2.9,>=2.5 in /usr/local/lib/python3.6/dist-packages (from requests>=2.3.0->update-checker>=0.16->praw) (2.8)\n",
            "Requirement already satisfied: urllib3<1.25,>=1.21.1 in /usr/local/lib/python3.6/dist-packages (from requests>=2.3.0->update-checker>=0.16->praw) (1.24.3)\n",
            "Installing collected packages: update-checker, prawcore, websocket-client, praw\n",
            "Successfully installed praw-6.4.0 prawcore-1.0.1 update-checker-0.16 websocket-client-0.56.0\n"
          ],
          "name": "stdout"
        }
      ]
    },
    {
      "cell_type": "code",
      "metadata": {
        "id": "PFAadbyz2syG",
        "colab_type": "code",
        "colab": {}
      },
      "source": [
        "import praw "
      ],
      "execution_count": 0,
      "outputs": []
    },
    {
      "cell_type": "code",
      "metadata": {
        "id": "jrUtF1BP2wRw",
        "colab_type": "code",
        "colab": {}
      },
      "source": [
        "reddit = praw.Reddit(client_id='V0wRrd6JxqFzqw', client_secret='m8t2vqwjLjDOBhgFPVkGUo8INnk', user_agent='Reddit Webscrapping')"
      ],
      "execution_count": 0,
      "outputs": []
    },
    {
      "cell_type": "code",
      "metadata": {
        "id": "OCM8SrEF22-a",
        "colab_type": "code",
        "colab": {
          "base_uri": "https://localhost:8080/",
          "height": 275
        },
        "outputId": "1a251051-f799-416e-ffba-3ae08a684347"
      },
      "source": [
        "import pandas as pd\n",
        "posts2 = []\n",
        "AD_subreddit = reddit.subreddit('AskDocs')\n",
        "for post in AD_subreddit.hot(limit= 1000):\n",
        "    posts2.append([post.title, post.selftext])\n",
        "posts2 = pd.DataFrame(posts2,columns=['title', 'body', ])\n",
        "print(posts2)"
      ],
      "execution_count": 7,
      "outputs": [
        {
          "output_type": "stream",
          "text": [
            "                                                 title                                               body\n",
            "0    Weekly Discussion/General Questions Thread - N...  \\n**This is a weekly general discussion and ge...\n",
            "1    3.5f with mystery illness 4 children’s hospita...  This is going to be so, so, so long and I’m so...\n",
            "2    I was bitten by a venomous snake. (I did go to...  36yo F. 5’2”. 170lbs. Prescribed Percocet but ...\n",
            "3    Shoulder pain is just getting worse and worse ...  23 year old, Female, 5'4 140~ pounds\\n\\nOctobe...\n",
            "4    [SERIOUS] NSFW - 31m. Adderall makes me have g...  Umm, so yeah, this is weird.\\n\\nI live with my...\n",
            "..                                                 ...                                                ...\n",
            "774  Chronic obstructive pulmonary disease (COPD) m...  I had a nasty pulmonary inflammation/infection...\n",
            "775        21M, I have an eye floater and I am worried   Kind of a round-ish thing which i can remembe...\n",
            "776                       Photopsia at very young age.  Male, 15, Asian, 172cm, 49kg. I wear glasses a...\n",
            "777                             Don't Judge My Vagina!  I am 25 years old and have had one sex partner...\n",
            "778                   very weird feeling with my brain  21 male,\\n\\nthe past 30~ days I've been  havin...\n",
            "\n",
            "[779 rows x 2 columns]\n"
          ],
          "name": "stdout"
        }
      ]
    },
    {
      "cell_type": "code",
      "metadata": {
        "id": "V1NYC0Sw4f0P",
        "colab_type": "code",
        "colab": {}
      },
      "source": [
        ""
      ],
      "execution_count": 0,
      "outputs": []
    }
  ]
}