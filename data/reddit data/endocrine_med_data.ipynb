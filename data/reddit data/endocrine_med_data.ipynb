{
  "nbformat": 4,
  "nbformat_minor": 0,
  "metadata": {
    "colab": {
      "name": "endocrine med data.ipynb",
      "provenance": [],
      "include_colab_link": true
    },
    "kernelspec": {
      "name": "python3",
      "display_name": "Python 3"
    }
  },
  "cells": [
    {
      "cell_type": "markdown",
      "metadata": {
        "id": "view-in-github",
        "colab_type": "text"
      },
      "source": [
        "<a href=\"https://colab.research.google.com/github/itsclint/Dasha/blob/master/data/reddit%20data/endocrine_med_data.ipynb\" target=\"_parent\"><img src=\"https://colab.research.google.com/assets/colab-badge.svg\" alt=\"Open In Colab\"/></a>"
      ]
    },
    {
      "cell_type": "code",
      "metadata": {
        "id": "uSV-2f0LVbuz",
        "colab_type": "code",
        "outputId": "2650bc66-753f-409e-b9c3-3ae943548bef",
        "colab": {
          "base_uri": "https://localhost:8080/",
          "height": 207
        }
      },
      "source": [
        "pip install PRAW"
      ],
      "execution_count": 0,
      "outputs": [
        {
          "output_type": "stream",
          "text": [
            "Requirement already satisfied: PRAW in /usr/local/lib/python3.6/dist-packages (6.4.0)\n",
            "Requirement already satisfied: websocket-client>=0.54.0 in /usr/local/lib/python3.6/dist-packages (from PRAW) (0.56.0)\n",
            "Requirement already satisfied: prawcore<2.0,>=1.0.1 in /usr/local/lib/python3.6/dist-packages (from PRAW) (1.0.1)\n",
            "Requirement already satisfied: update-checker>=0.16 in /usr/local/lib/python3.6/dist-packages (from PRAW) (0.16)\n",
            "Requirement already satisfied: six in /usr/local/lib/python3.6/dist-packages (from websocket-client>=0.54.0->PRAW) (1.12.0)\n",
            "Requirement already satisfied: requests<3.0,>=2.6.0 in /usr/local/lib/python3.6/dist-packages (from prawcore<2.0,>=1.0.1->PRAW) (2.21.0)\n",
            "Requirement already satisfied: urllib3<1.25,>=1.21.1 in /usr/local/lib/python3.6/dist-packages (from requests<3.0,>=2.6.0->prawcore<2.0,>=1.0.1->PRAW) (1.24.3)\n",
            "Requirement already satisfied: chardet<3.1.0,>=3.0.2 in /usr/local/lib/python3.6/dist-packages (from requests<3.0,>=2.6.0->prawcore<2.0,>=1.0.1->PRAW) (3.0.4)\n",
            "Requirement already satisfied: certifi>=2017.4.17 in /usr/local/lib/python3.6/dist-packages (from requests<3.0,>=2.6.0->prawcore<2.0,>=1.0.1->PRAW) (2019.9.11)\n",
            "Requirement already satisfied: idna<2.9,>=2.5 in /usr/local/lib/python3.6/dist-packages (from requests<3.0,>=2.6.0->prawcore<2.0,>=1.0.1->PRAW) (2.8)\n"
          ],
          "name": "stdout"
        }
      ]
    },
    {
      "cell_type": "code",
      "metadata": {
        "id": "AJvpte4yVi8T",
        "colab_type": "code",
        "colab": {}
      },
      "source": [
        "import praw "
      ],
      "execution_count": 0,
      "outputs": []
    },
    {
      "cell_type": "code",
      "metadata": {
        "id": "jrUtF1BP2wRw",
        "colab_type": "code",
        "colab": {}
      },
      "source": [
        "\n",
        "reddit = praw.Reddit(client_id='V0wRrd6JxqFzqw', client_secret='m8t2vqwjLjDOBhgFPVkGUo8INnk', user_agent='Reddit Webscrapping')"
      ],
      "execution_count": 0,
      "outputs": []
    },
    {
      "cell_type": "code",
      "metadata": {
        "id": "7Q7K-FgDV8Ef",
        "colab_type": "code",
        "outputId": "24dbee02-0953-4310-f996-17065f928481",
        "colab": {
          "base_uri": "https://localhost:8080/",
          "height": 255
        }
      },
      "source": [
        "import pandas as pd\n",
        "endo_med = []\n",
        "endo_reddit = reddit.subreddit('endocrinology')\n",
        "for post in endo_reddit.new(limit=1000):\n",
        "  endo_med.append([post.title, post.selftext])\n",
        "endo_med = pd.DataFrame(endo_med,columns=['title', 'body',])\n",
        "print(endo_med)\n",
        "\n"
      ],
      "execution_count": 0,
      "outputs": [
        {
          "output_type": "stream",
          "text": [
            "                                                 title                                               body\n",
            "0    I took HGH starting in 5th grade, stopped in 9...                                                   \n",
            "1        \"Normal\" androgens - hyperandrogenic symptoms  DHEA-S 237,50 ug/dl\\nAndrostenedione 3,13 ng/m...\n",
            "2                I have Growth hormone Deficiency. AMA  It can be scary dealing with this issue becaus...\n",
            "3                        Enclomiphene for Testosterone  There’s an updated version of the drug clomid ...\n",
            "4                                            Desperate  Been going to all types of specialists since y...\n",
            "..                                                 ...                                                ...\n",
            "566   Endocrinological causes of Postpartum Depression  My wife has suffered postpartum depression for...\n",
            "567                                 HPA and IGF-1 axes  I know it's a long shot this will make it onto...\n",
            "568                                         Hello All!  I'm completely new to endocrinology. I'm curre...\n",
            "569  3rd International Conference on Endocrinology,...                                                   \n",
            "570                                       Anyone here?  I have lab results and would love for someone ...\n",
            "\n",
            "[571 rows x 2 columns]\n"
          ],
          "name": "stdout"
        }
      ]
    },
    {
      "cell_type": "code",
      "metadata": {
        "id": "tCieDNYyXoQC",
        "colab_type": "code",
        "outputId": "8dee2508-aa38-4493-d12c-0016e39a61c4",
        "colab": {
          "base_uri": "https://localhost:8080/",
          "height": 122
        }
      },
      "source": [
        "from google.colab import drive\n",
        "drive.mount('/content/drive')"
      ],
      "execution_count": 0,
      "outputs": [
        {
          "output_type": "stream",
          "text": [
            "Go to this URL in a browser: https://accounts.google.com/o/oauth2/auth?client_id=947318989803-6bn6qk8qdgf4n4g3pfee6491hc0brc4i.apps.googleusercontent.com&redirect_uri=urn%3Aietf%3Awg%3Aoauth%3A2.0%3Aoob&scope=email%20https%3A%2F%2Fwww.googleapis.com%2Fauth%2Fdocs.test%20https%3A%2F%2Fwww.googleapis.com%2Fauth%2Fdrive%20https%3A%2F%2Fwww.googleapis.com%2Fauth%2Fdrive.photos.readonly%20https%3A%2F%2Fwww.googleapis.com%2Fauth%2Fpeopleapi.readonly&response_type=code\n",
            "\n",
            "Enter your authorization code:\n",
            "··········\n",
            "Mounted at /content/drive\n"
          ],
          "name": "stdout"
        }
      ]
    },
    {
      "cell_type": "code",
      "metadata": {
        "id": "XGlFS6cjZzJn",
        "colab_type": "code",
        "colab": {}
      },
      "source": [
        "endo_med.to_csv('/content/endo_med.csv')"
      ],
      "execution_count": 0,
      "outputs": []
    },
    {
      "cell_type": "code",
      "metadata": {
        "id": "N-5sep3ZaYji",
        "colab_type": "code",
        "colab": {}
      },
      "source": [
        ""
      ],
      "execution_count": 0,
      "outputs": []
    }
  ]
}